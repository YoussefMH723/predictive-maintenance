{
 "cells": [
  {
   "cell_type": "markdown",
   "metadata": {},
   "source": [
    "### CONSTANTS"
   ]
  },
  {
   "cell_type": "code",
   "execution_count": 1,
   "metadata": {},
   "outputs": [],
   "source": [
    "PATHES = ['data/X_train.csv', 'data/X_test.csv', 'data/y_train.csv', 'data/y_test.csv']\n",
    "SCALER_PATH = \"models/standard_scaler.pickle.dat\"\n",
    "NUMERICAL_FEATURES = ['Air temperature [K]', 'Process temperature [K]', 'Rotational speed [rpm]',\n",
    "                       'Torque [Nm]', 'Tool wear [min]', 'feature_1', 'feature_2', 'feature_3', 'feature_4']"
   ]
  },
  {
   "cell_type": "markdown",
   "metadata": {},
   "source": [
    "### Importing Libraries"
   ]
  },
  {
   "cell_type": "code",
   "execution_count": 2,
   "metadata": {},
   "outputs": [],
   "source": [
    "import pandas as pd\n",
    "import matplotlib.pyplot as plt\n",
    "\n",
    "from sklearn.linear_model import LogisticRegression\n",
    "from sklearn.ensemble import RandomForestClassifier\n",
    "from xgboost import XGBClassifier\n",
    "from sklearn.svm import SVC\n",
    "from sklearn.metrics import confusion_matrix, classification_report, ConfusionMatrixDisplay\n",
    "from imblearn.over_sampling import RandomOverSampler, SMOTE\n",
    "\n",
    "import pickle\n",
    "import warnings\n",
    "warnings.filterwarnings('ignore')"
   ]
  },
  {
   "cell_type": "markdown",
   "metadata": {},
   "source": [
    "### Functions"
   ]
  },
  {
   "cell_type": "code",
   "execution_count": 3,
   "metadata": {},
   "outputs": [],
   "source": [
    "def get_train_test_data(pathes):\n",
    "    data = []\n",
    "    for path in pathes:\n",
    "        df = pd.read_csv(path)\n",
    "        data.append(df)\n",
    "    return data"
   ]
  },
  {
   "cell_type": "markdown",
   "metadata": {},
   "source": [
    "### Reading Data and Scaler"
   ]
  },
  {
   "cell_type": "code",
   "execution_count": 4,
   "metadata": {},
   "outputs": [
    {
     "name": "stdout",
     "output_type": "stream",
     "text": [
      "X_train shape: (8000, 12)\n",
      "X_test shape: (2000, 12)\n",
      "y_train shape: (8000, 1)\n",
      "y_test shape: (2000, 1)\n",
      "Data Scaler: StandardScaler()\n"
     ]
    }
   ],
   "source": [
    "X_train, X_test, y_train, y_test = get_train_test_data(PATHES)\n",
    "scaler = pickle.load(open(SCALER_PATH, \"rb\"))\n",
    "print(f'X_train shape: {X_train.shape}')\n",
    "print(f'X_test shape: {X_test.shape}')\n",
    "print(f'y_train shape: {y_train.shape}')\n",
    "print(f'y_test shape: {y_test.shape}')\n",
    "print(f'Data Scaler: {scaler}')"
   ]
  },
  {
   "cell_type": "code",
   "execution_count": 5,
   "metadata": {},
   "outputs": [],
   "source": [
    "X_train_scaled = X_train.copy()\n",
    "X_train_scaled[NUMERICAL_FEATURES] = scaler.transform(X_train_scaled[NUMERICAL_FEATURES])\n",
    "X_test_scaled = X_test.copy()\n",
    "X_test_scaled[NUMERICAL_FEATURES] = scaler.transform(X_test_scaled[NUMERICAL_FEATURES])"
   ]
  },
  {
   "cell_type": "markdown",
   "metadata": {},
   "source": [
    "### 01. Logistic Regression"
   ]
  },
  {
   "cell_type": "code",
   "execution_count": 6,
   "metadata": {},
   "outputs": [
    {
     "name": "stdout",
     "output_type": "stream",
     "text": [
      "Train Confusion Matrix:\n",
      " [[7708   21]\n",
      " [ 202   69]]\n",
      "Test Confusion Matrix:\n",
      " [[1922   10]\n",
      " [  51   17]]\n",
      "Test Classification report:\n",
      "               precision    recall  f1-score   support\n",
      "\n",
      "           0       0.97      0.99      0.98      1932\n",
      "           1       0.63      0.25      0.36        68\n",
      "\n",
      "    accuracy                           0.97      2000\n",
      "   macro avg       0.80      0.62      0.67      2000\n",
      "weighted avg       0.96      0.97      0.96      2000\n",
      "\n"
     ]
    }
   ],
   "source": [
    "estimator = LogisticRegression(solver='newton-cholesky', penalty='l2')\n",
    "estimator.fit(X_train_scaled, y_train)\n",
    "y_pred_train = estimator.predict(X_train_scaled)\n",
    "y_pred_test = estimator.predict(X_test_scaled)\n",
    "print('Train Confusion Matrix:\\n', confusion_matrix(y_pred=y_pred_train, y_true=y_train))\n",
    "print('Test Confusion Matrix:\\n', confusion_matrix(y_pred=y_pred_test, y_true=y_test))\n",
    "print('Test Classification report:\\n', classification_report(y_pred=y_pred_test, y_true=y_test))"
   ]
  },
  {
   "cell_type": "markdown",
   "metadata": {},
   "source": [
    "### 02. Support Victor (Linear)"
   ]
  },
  {
   "cell_type": "code",
   "execution_count": 8,
   "metadata": {},
   "outputs": [
    {
     "name": "stdout",
     "output_type": "stream",
     "text": [
      "Train Confusion Matrix:\n",
      " [[7729    0]\n",
      " [ 265    6]]\n",
      "Test Confusion Matrix:\n",
      " [[1932    0]\n",
      " [  68    0]]\n",
      "Test Classification report:\n",
      "               precision    recall  f1-score   support\n",
      "\n",
      "           0       0.97      1.00      0.98      1932\n",
      "           1       0.00      0.00      0.00        68\n",
      "\n",
      "    accuracy                           0.97      2000\n",
      "   macro avg       0.48      0.50      0.49      2000\n",
      "weighted avg       0.93      0.97      0.95      2000\n",
      "\n"
     ]
    }
   ],
   "source": [
    "estimator = SVC(kernel='linear')\n",
    "estimator.fit(X_train_scaled, y_train)\n",
    "y_pred_train = estimator.predict(X_train_scaled)\n",
    "y_pred_test = estimator.predict(X_test_scaled)\n",
    "print('Train Confusion Matrix:\\n', confusion_matrix(y_pred=y_pred_train, y_true=y_train))\n",
    "print('Test Confusion Matrix:\\n', confusion_matrix(y_pred=y_pred_test, y_true=y_test))\n",
    "print('Test Classification report:\\n', classification_report(y_pred=y_pred_test, y_true=y_test))"
   ]
  },
  {
   "cell_type": "markdown",
   "metadata": {},
   "source": [
    "### 03. Support Victor (non-linear)"
   ]
  },
  {
   "cell_type": "code",
   "execution_count": 9,
   "metadata": {},
   "outputs": [
    {
     "name": "stdout",
     "output_type": "stream",
     "text": [
      "Train Confusion Matrix:\n",
      " [[7723    6]\n",
      " [  37  234]]\n",
      "Test Confusion Matrix:\n",
      " [[1921   11]\n",
      " [  19   49]]\n",
      "Test Classification report:\n",
      "               precision    recall  f1-score   support\n",
      "\n",
      "           0       0.99      0.99      0.99      1932\n",
      "           1       0.82      0.72      0.77        68\n",
      "\n",
      "    accuracy                           0.98      2000\n",
      "   macro avg       0.90      0.86      0.88      2000\n",
      "weighted avg       0.98      0.98      0.98      2000\n",
      "\n"
     ]
    }
   ],
   "source": [
    "estimator = SVC(kernel='rbf', C=1000, gamma=0.1)\n",
    "estimator.fit(X_train_scaled, y_train)\n",
    "y_pred_train = estimator.predict(X_train_scaled)\n",
    "y_pred_test = estimator.predict(X_test_scaled)\n",
    "print('Train Confusion Matrix:\\n', confusion_matrix(y_pred=y_pred_train, y_true=y_train))\n",
    "print('Test Confusion Matrix:\\n', confusion_matrix(y_pred=y_pred_test, y_true=y_test))\n",
    "print('Test Classification report:\\n', classification_report(y_pred=y_pred_test, y_true=y_test))"
   ]
  },
  {
   "cell_type": "markdown",
   "metadata": {},
   "source": [
    "### 04. Random Forest"
   ]
  },
  {
   "cell_type": "code",
   "execution_count": 10,
   "metadata": {},
   "outputs": [
    {
     "name": "stdout",
     "output_type": "stream",
     "text": [
      "Train Confusion Matrix:\n",
      " [[7729    0]\n",
      " [   0  271]]\n",
      "Test Confusion Matrix:\n",
      " [[1928    4]\n",
      " [  21   47]]\n",
      "Test Classification report:\n",
      "               precision    recall  f1-score   support\n",
      "\n",
      "           0       0.99      1.00      0.99      1932\n",
      "           1       0.92      0.69      0.79        68\n",
      "\n",
      "    accuracy                           0.99      2000\n",
      "   macro avg       0.96      0.84      0.89      2000\n",
      "weighted avg       0.99      0.99      0.99      2000\n",
      "\n"
     ]
    }
   ],
   "source": [
    "estimator = RandomForestClassifier(n_estimators=300)\n",
    "estimator.fit(X_train, y_train)\n",
    "y_pred_train = estimator.predict(X_train)\n",
    "y_pred_test = estimator.predict(X_test)\n",
    "print('Train Confusion Matrix:\\n', confusion_matrix(y_pred=y_pred_train, y_true=y_train))\n",
    "print('Test Confusion Matrix:\\n', confusion_matrix(y_pred=y_pred_test, y_true=y_test))\n",
    "print('Test Classification report:\\n', classification_report(y_pred=y_pred_test, y_true=y_test))"
   ]
  },
  {
   "cell_type": "markdown",
   "metadata": {},
   "source": [
    "### 05. XGBoost"
   ]
  },
  {
   "cell_type": "code",
   "execution_count": 11,
   "metadata": {},
   "outputs": [
    {
     "name": "stdout",
     "output_type": "stream",
     "text": [
      "Train Confusion Matrix:\n",
      " [[7729    0]\n",
      " [   0  271]]\n",
      "Test Confusion Matrix:\n",
      " [[1928    4]\n",
      " [  22   46]]\n",
      "Test Classification report:\n",
      "               precision    recall  f1-score   support\n",
      "\n",
      "           0       0.99      1.00      0.99      1932\n",
      "           1       0.92      0.68      0.78        68\n",
      "\n",
      "    accuracy                           0.99      2000\n",
      "   macro avg       0.95      0.84      0.89      2000\n",
      "weighted avg       0.99      0.99      0.99      2000\n",
      "\n"
     ]
    }
   ],
   "source": [
    "estimator = XGBClassifier(max_depth=7)\n",
    "estimator.fit(X_train.values, y_train)\n",
    "y_pred_train = estimator.predict(X_train)\n",
    "y_pred_test = estimator.predict(X_test)\n",
    "print('Train Confusion Matrix:\\n', confusion_matrix(y_pred=y_pred_train, y_true=y_train))\n",
    "print('Test Confusion Matrix:\\n', confusion_matrix(y_pred=y_pred_test, y_true=y_test))\n",
    "print('Test Classification report:\\n', classification_report(y_pred=y_pred_test, y_true=y_test))"
   ]
  },
  {
   "cell_type": "markdown",
   "metadata": {},
   "source": [
    "### 06. XGBoost with Random Over Sampling"
   ]
  },
  {
   "cell_type": "code",
   "execution_count": 14,
   "metadata": {},
   "outputs": [
    {
     "name": "stdout",
     "output_type": "stream",
     "text": [
      "Train Confusion Matrix:\n",
      " [[7729    0]\n",
      " [   0  271]]\n",
      "Test Confusion Matrix:\n",
      " [[1919   13]\n",
      " [  16   52]]\n",
      "Test Classification report:\n",
      "               precision    recall  f1-score   support\n",
      "\n",
      "           0       0.99      0.99      0.99      1932\n",
      "           1       0.80      0.76      0.78        68\n",
      "\n",
      "    accuracy                           0.99      2000\n",
      "   macro avg       0.90      0.88      0.89      2000\n",
      "weighted avg       0.99      0.99      0.99      2000\n",
      "\n"
     ]
    }
   ],
   "source": [
    "over_sampler = RandomOverSampler()\n",
    "X_train_, y_train_ = over_sampler.fit_resample(X_train, y_train)\n",
    "estimator = XGBClassifier(max_depth=7)\n",
    "estimator.fit(X_train_.values, y_train_)\n",
    "y_pred_train = estimator.predict(X_train)\n",
    "y_pred_test = estimator.predict(X_test)\n",
    "print('Train Confusion Matrix:\\n', confusion_matrix(y_pred=y_pred_train, y_true=y_train))\n",
    "print('Test Confusion Matrix:\\n', confusion_matrix(y_pred=y_pred_test, y_true=y_test))\n",
    "print('Test Classification report:\\n', classification_report(y_pred=y_pred_test, y_true=y_test))"
   ]
  },
  {
   "cell_type": "markdown",
   "metadata": {},
   "source": [
    "### 07. XGBoost with SMOTE"
   ]
  },
  {
   "cell_type": "code",
   "execution_count": 15,
   "metadata": {},
   "outputs": [
    {
     "name": "stdout",
     "output_type": "stream",
     "text": [
      "Train Confusion Matrix:\n",
      " [[7729    0]\n",
      " [   0  271]]\n",
      "Test Confusion Matrix:\n",
      " [[1906   26]\n",
      " [  16   52]]\n",
      "Test Classification report:\n",
      "               precision    recall  f1-score   support\n",
      "\n",
      "           0       0.99      0.99      0.99      1932\n",
      "           1       0.67      0.76      0.71        68\n",
      "\n",
      "    accuracy                           0.98      2000\n",
      "   macro avg       0.83      0.88      0.85      2000\n",
      "weighted avg       0.98      0.98      0.98      2000\n",
      "\n"
     ]
    }
   ],
   "source": [
    "smote = SMOTE()\n",
    "X_train_, y_train_ = smote.fit_resample(X_train, y_train)\n",
    "estimator = XGBClassifier(max_depth=7)\n",
    "estimator.fit(X_train_.values, y_train_)\n",
    "y_pred_train = estimator.predict(X_train)\n",
    "y_pred_test = estimator.predict(X_test)\n",
    "print('Train Confusion Matrix:\\n', confusion_matrix(y_pred=y_pred_train, y_true=y_train))\n",
    "print('Test Confusion Matrix:\\n', confusion_matrix(y_pred=y_pred_test, y_true=y_test))\n",
    "print('Test Classification report:\\n', classification_report(y_pred=y_pred_test, y_true=y_test))"
   ]
  },
  {
   "cell_type": "markdown",
   "metadata": {},
   "source": [
    "### 08. Best Model XGBoost with Random Over Sampler"
   ]
  },
  {
   "cell_type": "code",
   "execution_count": 17,
   "metadata": {},
   "outputs": [
    {
     "name": "stdout",
     "output_type": "stream",
     "text": [
      "Train Confusion Matrix:\n",
      " [[7729    0]\n",
      " [   0  271]]\n",
      "Test Confusion Matrix:\n",
      " [[1919   13]\n",
      " [  16   52]]\n",
      "Test Classification report:\n",
      "               precision    recall  f1-score   support\n",
      "\n",
      "           0       0.99      0.99      0.99      1932\n",
      "           1       0.80      0.76      0.78        68\n",
      "\n",
      "    accuracy                           0.99      2000\n",
      "   macro avg       0.90      0.88      0.89      2000\n",
      "weighted avg       0.99      0.99      0.99      2000\n",
      "\n"
     ]
    }
   ],
   "source": [
    "over_sampler = RandomOverSampler()\n",
    "X_train_, y_train_ = over_sampler.fit_resample(X_train, y_train)\n",
    "estimator = XGBClassifier(max_depth=7)\n",
    "estimator.fit(X_train_.values, y_train_)\n",
    "y_pred_train = estimator.predict(X_train)\n",
    "y_pred_test = estimator.predict(X_test)\n",
    "train_cm = confusion_matrix(y_pred=y_pred_train, y_true=y_train)\n",
    "test_cm = confusion_matrix(y_pred=y_pred_test, y_true=y_test)\n",
    "print('Train Confusion Matrix:\\n', train_cm)\n",
    "print('Test Confusion Matrix:\\n', test_cm)\n",
    "print('Test Classification report:\\n', classification_report(y_pred=y_pred_test, y_true=y_test))"
   ]
  },
  {
   "cell_type": "code",
   "execution_count": 18,
   "metadata": {},
   "outputs": [
    {
     "data": {
      "text/plain": [
       "Text(0.5, 1.0, 'Train Confusion Matrix')"
      ]
     },
     "execution_count": 18,
     "metadata": {},
     "output_type": "execute_result"
    },
    {
     "data": {
      "image/png": "[encoded data removed]",
      "text/plain": [
       "<Figure size 640x480 with 2 Axes>"
      ]
     },
     "metadata": {},
     "output_type": "display_data"
    }
   ],
   "source": [
    "disp_train_cm = ConfusionMatrixDisplay(train_cm, display_labels=estimator.classes_)\n",
    "disp_train_cm.plot()\n",
    "plt.title('Train Confusion Matrix')\n"
   ]
  },
  {
   "cell_type": "code",
   "execution_count": 29,
   "metadata": {},
   "outputs": [
    {
     "data": {
      "text/plain": [
       "Text(0.5, 1.0, 'Test Confusion Matrix')"
      ]
     },
     "execution_count": 29,
     "metadata": {},
     "output_type": "execute_result"
    },
    {
     "data": {
      "image/png": "[encoded data removed]",
      "text/plain": [
       "<Figure size 640x480 with 2 Axes>"
      ]
     },
     "metadata": {},
     "output_type": "display_data"
    }
   ],
   "source": [
    "disp_test_cm = ConfusionMatrixDisplay(test_cm, display_labels=estimator.classes_)\n",
    "disp_test_cm.plot()\n",
    "plt.title('Test Confusion Matrix')\n"
   ]
  },
  {
   "cell_type": "markdown",
   "metadata": {},
   "source": [
    "### 09. Exporting Best Model"
   ]
  },
  {
   "cell_type": "code",
   "execution_count": 19,
   "metadata": {},
   "outputs": [],
   "source": [
    "pickle.dump(estimator, open(\"models/xgboost.pickle.dat\", \"wb\"))"
   ]
  },
  {
   "cell_type": "code",
   "execution_count": null,
   "metadata": {},
   "outputs": [],
   "source": []
  }
 ],
 "metadata": {
  "kernelspec": {
   "display_name": "base",
   "language": "python",
   "name": "python3"
  },
  "language_info": {
   "codemirror_mode": {
    "name": "ipython",
    "version": 3
   },
   "file_extension": ".py",
   "mimetype": "text/x-python",
   "name": "python",
   "nbconvert_exporter": "python",
   "pygments_lexer": "ipython3",
   "version": "3.12.4"
  }
 },
 "nbformat": 4,
 "nbformat_minor": 2
}
