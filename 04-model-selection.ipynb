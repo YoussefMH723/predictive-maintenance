{
 "cells": [
  {
   "cell_type": "markdown",
   "metadata": {},
   "source": [
    "### CONSTANTS"
   ]
  },
  {
   "cell_type": "code",
   "execution_count": 2,
   "metadata": {},
   "outputs": [],
   "source": [
    "PATHES = ['data/X_train.csv', 'data/X_test.csv', 'data/y_train.csv', 'data/y_test.csv']"
   ]
  },
  {
   "cell_type": "markdown",
   "metadata": {},
   "source": [
    "### Importing Libraries"
   ]
  },
  {
   "cell_type": "code",
   "execution_count": 94,
   "metadata": {},
   "outputs": [],
   "source": [
    "import numpy as np\n",
    "import pandas as pd\n",
    "import matplotlib.pyplot as plt\n",
    "\n",
    "from sklearn.linear_model import LogisticRegression\n",
    "from sklearn.ensemble import RandomForestClassifier\n",
    "from xgboost import XGBClassifier\n",
    "from sklearn.svm import SVC\n",
    "from sklearn.metrics import confusion_matrix, classification_report, ConfusionMatrixDisplay\n",
    "from imblearn.over_sampling import RandomOverSampler, SMOTE\n",
    "\n",
    "import warnings\n",
    "warnings.filterwarnings('ignore')"
   ]
  },
  {
   "cell_type": "markdown",
   "metadata": {},
   "source": [
    "### Functions"
   ]
  },
  {
   "cell_type": "code",
   "execution_count": 3,
   "metadata": {},
   "outputs": [],
   "source": [
    "def get_train_test_data(pathes):\n",
    "    data = []\n",
    "    for path in pathes:\n",
    "        df = pd.read_csv(path)\n",
    "        data.append(df)\n",
    "    return data"
   ]
  },
  {
   "cell_type": "markdown",
   "metadata": {},
   "source": [
    "### Reading Data"
   ]
  },
  {
   "cell_type": "code",
   "execution_count": 4,
   "metadata": {},
   "outputs": [
    {
     "name": "stdout",
     "output_type": "stream",
     "text": [
      "X_train shape: (8000, 12)\n",
      "X_test shape: (2000, 12)\n",
      "y_train shape: (8000, 1)\n",
      "y_test shape: (2000, 1)\n"
     ]
    }
   ],
   "source": [
    "X_train, X_test, y_train, y_test = get_train_test_data(PATHES)\n",
    "print(f'X_train shape: {X_train.shape}')\n",
    "print(f'X_test shape: {X_test.shape}')\n",
    "print(f'y_train shape: {y_train.shape}')\n",
    "print(f'y_test shape: {y_test.shape}')"
   ]
  },
  {
   "cell_type": "markdown",
   "metadata": {},
   "source": [
    "### 01. Logistic Regression"
   ]
  },
  {
   "cell_type": "code",
   "execution_count": 19,
   "metadata": {},
   "outputs": [
    {
     "name": "stdout",
     "output_type": "stream",
     "text": [
      "Train Confusion Matrix:\n",
      " [[7705   24]\n",
      " [ 194   77]]\n",
      "Test Confusion Matrix:\n",
      " [[1923    9]\n",
      " [  55   13]]\n",
      "Test Classification report:\n",
      "               precision    recall  f1-score   support\n",
      "\n",
      "           0       0.97      1.00      0.98      1932\n",
      "           1       0.59      0.19      0.29        68\n",
      "\n",
      "    accuracy                           0.97      2000\n",
      "   macro avg       0.78      0.59      0.64      2000\n",
      "weighted avg       0.96      0.97      0.96      2000\n",
      "\n"
     ]
    }
   ],
   "source": [
    "estimator = LogisticRegression(solver='newton-cholesky', penalty='l2')\n",
    "estimator.fit(X_train, y_train)\n",
    "y_pred_train = estimator.predict(X_train)\n",
    "y_pred_test = estimator.predict(X_test)\n",
    "print('Train Confusion Matrix:\\n', confusion_matrix(y_pred=y_pred_train, y_true=y_train))\n",
    "print('Test Confusion Matrix:\\n', confusion_matrix(y_pred=y_pred_test, y_true=y_test))\n",
    "print('Test Classification report:\\n', classification_report(y_pred=y_pred_test, y_true=y_test))"
   ]
  },
  {
   "cell_type": "markdown",
   "metadata": {},
   "source": [
    "### 02. Support Victor (Linear)"
   ]
  },
  {
   "cell_type": "code",
   "execution_count": 18,
   "metadata": {},
   "outputs": [
    {
     "name": "stdout",
     "output_type": "stream",
     "text": [
      "Train Confusion Matrix:\n",
      " [[7729    0]\n",
      " [ 260   11]]\n",
      "Test Confusion Matrix:\n",
      " [[1932    0]\n",
      " [  68    0]]\n",
      "Test Classification report:\n",
      "               precision    recall  f1-score   support\n",
      "\n",
      "           0       0.97      1.00      0.98      1932\n",
      "           1       0.00      0.00      0.00        68\n",
      "\n",
      "    accuracy                           0.97      2000\n",
      "   macro avg       0.48      0.50      0.49      2000\n",
      "weighted avg       0.93      0.97      0.95      2000\n",
      "\n"
     ]
    }
   ],
   "source": [
    "estimator = SVC(kernel='linear')\n",
    "estimator.fit(X_train, y_train)\n",
    "y_pred_train = estimator.predict(X_train)\n",
    "y_pred_test = estimator.predict(X_test)\n",
    "print('Train Confusion Matrix:\\n', confusion_matrix(y_pred=y_pred_train, y_true=y_train))\n",
    "print('Test Confusion Matrix:\\n', confusion_matrix(y_pred=y_pred_test, y_true=y_test))\n",
    "print('Test Classification report:\\n', classification_report(y_pred=y_pred_test, y_true=y_test))"
   ]
  },
  {
   "cell_type": "markdown",
   "metadata": {},
   "source": [
    "### 03. Support Victor (non-linear)"
   ]
  },
  {
   "cell_type": "code",
   "execution_count": 33,
   "metadata": {},
   "outputs": [
    {
     "name": "stdout",
     "output_type": "stream",
     "text": [
      "Train Confusion Matrix:\n",
      " [[7722    7]\n",
      " [  34  237]]\n",
      "Test Confusion Matrix:\n",
      " [[1915   17]\n",
      " [  25   43]]\n",
      "Test Classification report:\n",
      "               precision    recall  f1-score   support\n",
      "\n",
      "           0       0.99      0.99      0.99      1932\n",
      "           1       0.72      0.63      0.67        68\n",
      "\n",
      "    accuracy                           0.98      2000\n",
      "   macro avg       0.85      0.81      0.83      2000\n",
      "weighted avg       0.98      0.98      0.98      2000\n",
      "\n"
     ]
    }
   ],
   "source": [
    "estimator = SVC(kernel='rbf', C=1000, gamma=0.1)\n",
    "estimator.fit(X_train, y_train)\n",
    "y_pred_train = estimator.predict(X_train)\n",
    "y_pred_test = estimator.predict(X_test)\n",
    "print('Train Confusion Matrix:\\n', confusion_matrix(y_pred=y_pred_train, y_true=y_train))\n",
    "print('Test Confusion Matrix:\\n', confusion_matrix(y_pred=y_pred_test, y_true=y_test))\n",
    "print('Test Classification report:\\n', classification_report(y_pred=y_pred_test, y_true=y_test))"
   ]
  },
  {
   "cell_type": "markdown",
   "metadata": {},
   "source": [
    "### 04. Random Forest"
   ]
  },
  {
   "cell_type": "code",
   "execution_count": 44,
   "metadata": {},
   "outputs": [
    {
     "name": "stdout",
     "output_type": "stream",
     "text": [
      "Train Confusion Matrix:\n",
      " [[7729    0]\n",
      " [   0  271]]\n",
      "Test Confusion Matrix:\n",
      " [[1928    4]\n",
      " [  30   38]]\n",
      "Test Classification report:\n",
      "               precision    recall  f1-score   support\n",
      "\n",
      "           0       0.98      1.00      0.99      1932\n",
      "           1       0.90      0.56      0.69        68\n",
      "\n",
      "    accuracy                           0.98      2000\n",
      "   macro avg       0.94      0.78      0.84      2000\n",
      "weighted avg       0.98      0.98      0.98      2000\n",
      "\n"
     ]
    }
   ],
   "source": [
    "estimator = RandomForestClassifier(n_estimators=300)\n",
    "estimator.fit(X_train, y_train)\n",
    "y_pred_train = estimator.predict(X_train)\n",
    "y_pred_test = estimator.predict(X_test)\n",
    "print('Train Confusion Matrix:\\n', confusion_matrix(y_pred=y_pred_train, y_true=y_train))\n",
    "print('Test Confusion Matrix:\\n', confusion_matrix(y_pred=y_pred_test, y_true=y_test))\n",
    "print('Test Classification report:\\n', classification_report(y_pred=y_pred_test, y_true=y_test))"
   ]
  },
  {
   "cell_type": "markdown",
   "metadata": {},
   "source": [
    "### 05. XGBoost"
   ]
  },
  {
   "cell_type": "code",
   "execution_count": 71,
   "metadata": {},
   "outputs": [
    {
     "name": "stdout",
     "output_type": "stream",
     "text": [
      "Train Confusion Matrix:\n",
      " [[7729    0]\n",
      " [   0  271]]\n",
      "Test Confusion Matrix:\n",
      " [[1925    7]\n",
      " [  17   51]]\n",
      "Test Classification report:\n",
      "               precision    recall  f1-score   support\n",
      "\n",
      "           0       0.99      1.00      0.99      1932\n",
      "           1       0.88      0.75      0.81        68\n",
      "\n",
      "    accuracy                           0.99      2000\n",
      "   macro avg       0.94      0.87      0.90      2000\n",
      "weighted avg       0.99      0.99      0.99      2000\n",
      "\n"
     ]
    }
   ],
   "source": [
    "estimator = XGBClassifier(max_depth=7)\n",
    "estimator.fit(X_train.values, y_train)\n",
    "y_pred_train = estimator.predict(X_train)\n",
    "y_pred_test = estimator.predict(X_test)\n",
    "print('Train Confusion Matrix:\\n', confusion_matrix(y_pred=y_pred_train, y_true=y_train))\n",
    "print('Test Confusion Matrix:\\n', confusion_matrix(y_pred=y_pred_test, y_true=y_test))\n",
    "print('Test Classification report:\\n', classification_report(y_pred=y_pred_test, y_true=y_test))"
   ]
  },
  {
   "cell_type": "markdown",
   "metadata": {},
   "source": [
    "### 06. XGBoost with Random Over Sampling"
   ]
  },
  {
   "cell_type": "code",
   "execution_count": 82,
   "metadata": {},
   "outputs": [
    {
     "name": "stdout",
     "output_type": "stream",
     "text": [
      "Train Confusion Matrix:\n",
      " [[7729    0]\n",
      " [   0  271]]\n",
      "Test Confusion Matrix:\n",
      " [[1914   18]\n",
      " [  14   54]]\n",
      "Test Classification report:\n",
      "               precision    recall  f1-score   support\n",
      "\n",
      "           0       0.99      0.99      0.99      1932\n",
      "           1       0.75      0.79      0.77        68\n",
      "\n",
      "    accuracy                           0.98      2000\n",
      "   macro avg       0.87      0.89      0.88      2000\n",
      "weighted avg       0.98      0.98      0.98      2000\n",
      "\n"
     ]
    }
   ],
   "source": [
    "over_sampler = RandomOverSampler()\n",
    "X_train_, y_train_ = over_sampler.fit_resample(X_train, y_train)\n",
    "estimator = XGBClassifier(max_depth=7)\n",
    "estimator.fit(X_train_.values, y_train_)\n",
    "y_pred_train = estimator.predict(X_train)\n",
    "y_pred_test = estimator.predict(X_test)\n",
    "print('Train Confusion Matrix:\\n', confusion_matrix(y_pred=y_pred_train, y_true=y_train))\n",
    "print('Test Confusion Matrix:\\n', confusion_matrix(y_pred=y_pred_test, y_true=y_test))\n",
    "print('Test Classification report:\\n', classification_report(y_pred=y_pred_test, y_true=y_test))"
   ]
  },
  {
   "cell_type": "markdown",
   "metadata": {},
   "source": [
    "### 07. XGBoost with SMOTE"
   ]
  },
  {
   "cell_type": "code",
   "execution_count": 86,
   "metadata": {},
   "outputs": [
    {
     "name": "stdout",
     "output_type": "stream",
     "text": [
      "Train Confusion Matrix:\n",
      " [[7729    0]\n",
      " [   0  271]]\n",
      "Test Confusion Matrix:\n",
      " [[1900   32]\n",
      " [  14   54]]\n",
      "Test Classification report:\n",
      "               precision    recall  f1-score   support\n",
      "\n",
      "           0       0.99      0.98      0.99      1932\n",
      "           1       0.63      0.79      0.70        68\n",
      "\n",
      "    accuracy                           0.98      2000\n",
      "   macro avg       0.81      0.89      0.84      2000\n",
      "weighted avg       0.98      0.98      0.98      2000\n",
      "\n"
     ]
    }
   ],
   "source": [
    "smote = SMOTE()\n",
    "X_train_, y_train_ = smote.fit_resample(X_train, y_train)\n",
    "estimator = XGBClassifier(max_depth=7)\n",
    "estimator.fit(X_train_.values, y_train_)\n",
    "y_pred_train = estimator.predict(X_train)\n",
    "y_pred_test = estimator.predict(X_test)\n",
    "print('Train Confusion Matrix:\\n', confusion_matrix(y_pred=y_pred_train, y_true=y_train))\n",
    "print('Test Confusion Matrix:\\n', confusion_matrix(y_pred=y_pred_test, y_true=y_test))\n",
    "print('Test Classification report:\\n', classification_report(y_pred=y_pred_test, y_true=y_test))"
   ]
  },
  {
   "cell_type": "markdown",
   "metadata": {},
   "source": [
    "### 08. Best Model XGBoost with Random Over Sampler"
   ]
  },
  {
   "cell_type": "code",
   "execution_count": 89,
   "metadata": {},
   "outputs": [
    {
     "name": "stdout",
     "output_type": "stream",
     "text": [
      "Train Confusion Matrix:\n",
      " [[7729    0]\n",
      " [   0  271]]\n",
      "Test Confusion Matrix:\n",
      " [[1918   14]\n",
      " [  14   54]]\n",
      "Test Classification report:\n",
      "               precision    recall  f1-score   support\n",
      "\n",
      "           0       0.99      0.99      0.99      1932\n",
      "           1       0.79      0.79      0.79        68\n",
      "\n",
      "    accuracy                           0.99      2000\n",
      "   macro avg       0.89      0.89      0.89      2000\n",
      "weighted avg       0.99      0.99      0.99      2000\n",
      "\n"
     ]
    }
   ],
   "source": [
    "over_sampler = RandomOverSampler()\n",
    "X_train_, y_train_ = over_sampler.fit_resample(X_train, y_train)\n",
    "estimator = XGBClassifier(max_depth=7)\n",
    "estimator.fit(X_train_.values, y_train_)\n",
    "y_pred_train = estimator.predict(X_train)\n",
    "y_pred_test = estimator.predict(X_test)\n",
    "train_cm = confusion_matrix(y_pred=y_pred_train, y_true=y_train)\n",
    "test_cm = confusion_matrix(y_pred=y_pred_test, y_true=y_test)\n",
    "print('Train Confusion Matrix:\\n', train_cm)\n",
    "print('Test Confusion Matrix:\\n', test_cm)\n",
    "print('Test Classification report:\\n', classification_report(y_pred=y_pred_test, y_true=y_test))"
   ]
  },
  {
   "cell_type": "code",
   "execution_count": 97,
   "metadata": {},
   "outputs": [
    {
     "data": {
      "text/plain": [
       "Text(0.5, 1.0, 'Train Confusion Matrix')"
      ]
     },
     "execution_count": 97,
     "metadata": {},
     "output_type": "execute_result"
    },
    {
     "data": {
      "image/png": "[encoded data removed]",
      "text/plain": [
       "<Figure size 640x480 with 2 Axes>"
      ]
     },
     "metadata": {},
     "output_type": "display_data"
    }
   ],
   "source": [
    "disp_train_cm = ConfusionMatrixDisplay(train_cm, display_labels=estimator.classes_)\n",
    "disp_train_cm.plot()\n",
    "plt.title('Train Confusion Matrix')\n"
   ]
  },
  {
   "cell_type": "code",
   "execution_count": 98,
   "metadata": {},
   "outputs": [
    {
     "data": {
      "text/plain": [
       "Text(0.5, 1.0, 'Test Confusion Matrix')"
      ]
     },
     "execution_count": 98,
     "metadata": {},
     "output_type": "execute_result"
    },
    {
     "data": {
      "image/png": "[encoded data removed]",
      "text/plain": [
       "<Figure size 640x480 with 2 Axes>"
      ]
     },
     "metadata": {},
     "output_type": "display_data"
    }
   ],
   "source": [
    "disp_test_cm = ConfusionMatrixDisplay(test_cm, display_labels=estimator.classes_)\n",
    "disp_test_cm.plot()\n",
    "plt.title('Test Confusion Matrix')\n"
   ]
  },
  {
   "cell_type": "code",
   "execution_count": null,
   "metadata": {},
   "outputs": [],
   "source": []
  }
 ],
 "metadata": {
  "kernelspec": {
   "display_name": "base",
   "language": "python",
   "name": "python3"
  },
  "language_info": {
   "codemirror_mode": {
    "name": "ipython",
    "version": 3
   },
   "file_extension": ".py",
   "mimetype": "text/x-python",
   "name": "python",
   "nbconvert_exporter": "python",
   "pygments_lexer": "ipython3",
   "version": "3.12.4"
  }
 },
 "nbformat": 4,
 "nbformat_minor": 2
}
